{
 "cells": [
  {
   "cell_type": "code",
   "execution_count": 26,
   "metadata": {},
   "outputs": [],
   "source": [
    "import requests\n",
    "\n",
    "END_POINT = 'https://disclosure.edinet-fsa.go.jp/api/v1'\n",
    "submission_info_endpoint = f'{END_POINT}/documents.json'\n",
    "submission_request_parameters = {\n",
    "    'date': '2023-09-08',\n",
    "    'type': 2\n",
    "}\n",
    "submission_info_response = requests.get(\n",
    "    submission_info_endpoint, submission_request_parameters\n",
    ")\n",
    "submission_info_json = submission_info_response.json()\n"
   ]
  },
  {
   "cell_type": "code",
   "execution_count": 27,
   "metadata": {},
   "outputs": [
    {
     "data": {
      "text/plain": [
       "Index(['seqNumber', 'docID', 'edinetCode', 'secCode', 'JCN', 'filerName',\n",
       "       'fundCode', 'ordinanceCode', 'formCode', 'docTypeCode', 'periodStart',\n",
       "       'periodEnd', 'submitDateTime', 'docDescription', 'issuerEdinetCode',\n",
       "       'subjectEdinetCode', 'subsidiaryEdinetCode', 'currentReportReason',\n",
       "       'parentDocID', 'opeDateTime', 'withdrawalStatus', 'docInfoEditStatus',\n",
       "       'disclosureStatus', 'xbrlFlag', 'pdfFlag', 'attachDocFlag',\n",
       "       'englishDocFlag', 'csvFlag', 'legalStatus'],\n",
       "      dtype='object')"
      ]
     },
     "execution_count": 27,
     "metadata": {},
     "output_type": "execute_result"
    }
   ],
   "source": [
    "import pandas as pd\n",
    "\n",
    "raw_submission_info_df = pd.DataFrame(submission_info_json['results'])\n",
    "raw_submission_info_df.columns"
   ]
  },
  {
   "cell_type": "code",
   "execution_count": 28,
   "metadata": {},
   "outputs": [
    {
     "data": {
      "text/html": [
       "<div>\n",
       "<style scoped>\n",
       "    .dataframe tbody tr th:only-of-type {\n",
       "        vertical-align: middle;\n",
       "    }\n",
       "\n",
       "    .dataframe tbody tr th {\n",
       "        vertical-align: top;\n",
       "    }\n",
       "\n",
       "    .dataframe thead th {\n",
       "        text-align: right;\n",
       "    }\n",
       "</style>\n",
       "<table border=\"1\" class=\"dataframe\">\n",
       "  <thead>\n",
       "    <tr style=\"text-align: right;\">\n",
       "      <th></th>\n",
       "      <th>docID</th>\n",
       "      <th>edinetCode</th>\n",
       "      <th>secCode</th>\n",
       "      <th>filerName</th>\n",
       "      <th>docDescription</th>\n",
       "    </tr>\n",
       "  </thead>\n",
       "  <tbody>\n",
       "    <tr>\n",
       "      <th>0</th>\n",
       "      <td>S100RTJS</td>\n",
       "      <td>E01045</td>\n",
       "      <td>49660</td>\n",
       "      <td>上村工業株式会社</td>\n",
       "      <td>自己株券買付状況報告書（法２４条の６第１項に基づくもの）</td>\n",
       "    </tr>\n",
       "    <tr>\n",
       "      <th>1</th>\n",
       "      <td>S100RK4A</td>\n",
       "      <td>E12444</td>\n",
       "      <td>None</td>\n",
       "      <td>三井住友トラスト・アセットマネジメント株式会社</td>\n",
       "      <td>有価証券報告書（内国投資信託受益証券）－第17期(2022/06/10－2023/06/09)</td>\n",
       "    </tr>\n",
       "    <tr>\n",
       "      <th>2</th>\n",
       "      <td>S100RPUU</td>\n",
       "      <td>E09666</td>\n",
       "      <td>None</td>\n",
       "      <td>アムンディ・ジャパン株式会社</td>\n",
       "      <td>有価証券報告書（内国投資信託受益証券）－第7期(2022/06/16－2023/06/15)</td>\n",
       "    </tr>\n",
       "    <tr>\n",
       "      <th>3</th>\n",
       "      <td>S100RRHB</td>\n",
       "      <td>E12453</td>\n",
       "      <td>None</td>\n",
       "      <td>ニッセイアセットマネジメント株式会社</td>\n",
       "      <td>有価証券届出書（内国投資信託受益証券）</td>\n",
       "    </tr>\n",
       "    <tr>\n",
       "      <th>4</th>\n",
       "      <td>S100RQ2B</td>\n",
       "      <td>E12453</td>\n",
       "      <td>None</td>\n",
       "      <td>ニッセイアセットマネジメント株式会社</td>\n",
       "      <td>半期報告書（内国投資信託受益証券）－第1期(2022/12/09－2023/12/11)</td>\n",
       "    </tr>\n",
       "  </tbody>\n",
       "</table>\n",
       "</div>"
      ],
      "text/plain": [
       "      docID edinetCode secCode                filerName  \\\n",
       "0  S100RTJS     E01045   49660                 上村工業株式会社   \n",
       "1  S100RK4A     E12444    None  三井住友トラスト・アセットマネジメント株式会社   \n",
       "2  S100RPUU     E09666    None           アムンディ・ジャパン株式会社   \n",
       "3  S100RRHB     E12453    None       ニッセイアセットマネジメント株式会社   \n",
       "4  S100RQ2B     E12453    None       ニッセイアセットマネジメント株式会社   \n",
       "\n",
       "                                    docDescription  \n",
       "0                     自己株券買付状況報告書（法２４条の６第１項に基づくもの）  \n",
       "1  有価証券報告書（内国投資信託受益証券）－第17期(2022/06/10－2023/06/09)  \n",
       "2   有価証券報告書（内国投資信託受益証券）－第7期(2022/06/16－2023/06/15)  \n",
       "3                              有価証券届出書（内国投資信託受益証券）  \n",
       "4     半期報告書（内国投資信託受益証券）－第1期(2022/12/09－2023/12/11)  "
      ]
     },
     "execution_count": 28,
     "metadata": {},
     "output_type": "execute_result"
    }
   ],
   "source": [
    "# 重要なカラムに絞る\n",
    "submission_info_df = raw_submission_info_df[['docID', 'edinetCode', 'secCode', 'filerName', 'docDescription']]\n",
    "submission_info_df.head()"
   ]
  },
  {
   "cell_type": "code",
   "execution_count": 29,
   "metadata": {},
   "outputs": [
    {
     "name": "stdout",
     "output_type": "stream",
     "text": [
      "5 件の有価証券報告書が抽出されました。\n"
     ]
    }
   ],
   "source": [
    "# 有価証券報告書の情報を抽出する。\n",
    "securities_report_infos = []\n",
    "for i, row in submission_info_df.iterrows():\n",
    "    doc_desc = row['docDescription']\n",
    "    \n",
    "    if doc_desc is None:\n",
    "        continue\n",
    "    \n",
    "    if ('有価証券報告書' in doc_desc) and ('受益証券' not in doc_desc):\n",
    "        row_to_dataframe = pd.DataFrame([row])\n",
    "        securities_report_infos.append(row_to_dataframe)\n",
    "\n",
    "if len(securities_report_infos) == 0:\n",
    "    print('有価証券報告書の提出情報がありません。')\n",
    "else:\n",
    "    print(f'{len(securities_report_infos)} 件の有価証券報告書が抽出されました。')\n",
    "    securities_report_info_df = pd.concat(securities_report_infos)"
   ]
  },
  {
   "cell_type": "code",
   "execution_count": 30,
   "metadata": {},
   "outputs": [],
   "source": [
    "# 今回はマネーフォーワードの第9期決算情報を対象とする。\n",
    "docID = 'S100N8ST'\n",
    "document_endpoint = f'{END_POINT}/documents/{docID}'\n",
    "document_request_parameters = {\n",
    "    'type': 1\n",
    "}\n",
    "document_response = requests.get(document_endpoint, document_request_parameters)"
   ]
  },
  {
   "cell_type": "code",
   "execution_count": 31,
   "metadata": {},
   "outputs": [],
   "source": [
    "# まず、返ってきたデータを zip 形式で保存する。\n",
    "zip_file_full_path = f'./content/{docID}.zip'\n",
    "with open(zip_file_full_path, 'wb') as f:\n",
    "    for chunk in document_response.iter_content(chunk_size=1024):\n",
    "        f.write(chunk)"
   ]
  },
  {
   "cell_type": "code",
   "execution_count": 32,
   "metadata": {},
   "outputs": [],
   "source": [
    "# zip ファイルを解凍する\n",
    "import zipfile\n",
    "import os\n",
    "os.makedirs(f'./content/{docID}', exist_ok=True)\n",
    "with zipfile.ZipFile(zip_file_full_path) as zip_f:\n",
    "    zip_f.extractall(f'./content/{docID}')"
   ]
  },
  {
   "cell_type": "code",
   "execution_count": 39,
   "metadata": {},
   "outputs": [
    {
     "data": {
      "text/plain": [
       "['./content/S100N8ST/XBRL/PublicDoc/jpcrp030000-asr-001_E33390-000_2020-11-30_02_2022-01-18.xbrl']"
      ]
     },
     "execution_count": 39,
     "metadata": {},
     "output_type": "execute_result"
    }
   ],
   "source": [
    "# xbrl ファイルを発見する\n",
    "from glob import glob\n",
    "# PublicDoc 内に格納されている xbrl ファイルが分析対象となるファイルである。\n",
    "xbrl_expression = f'./content/{docID}/**/PublicDoc/**/*.xbrl'\n",
    "xbrl_paths = glob(xbrl_expression, recursive=True)\n",
    "xbrl_paths"
   ]
  },
  {
   "cell_type": "code",
   "execution_count": 40,
   "metadata": {},
   "outputs": [
    {
     "name": "stderr",
     "output_type": "stream",
     "text": [
      "/opt/homebrew/lib/python3.11/site-packages/bs4/builder/__init__.py:545: XMLParsedAsHTMLWarning: It looks like you're parsing an XML document using an HTML parser. If this really is an HTML document (maybe it's XHTML?), you can ignore or filter this warning. If it's XML, you should know that using an XML parser will be more reliable. To parse this document as XML, make sure you have the lxml package installed, and pass the keyword argument `features=\"xml\"` into the BeautifulSoup constructor.\n",
      "  warnings.warn(\n"
     ]
    }
   ],
   "source": [
    "from edinet_xbrl.edinet_xbrl_parser import EdinetXbrlParser\n",
    "parser = EdinetXbrlParser()\n",
    "# Step2で特定した XBRL ファイルのパスを選択\n",
    "xbrl_path = xbrl_paths[0]\n",
    "parsed_xbrl = parser.parse_file(xbrl_path)"
   ]
  },
  {
   "cell_type": "code",
   "execution_count": 41,
   "metadata": {},
   "outputs": [
    {
     "data": {
      "text/plain": [
       "'2020-11-30'"
      ]
     },
     "execution_count": 41,
     "metadata": {},
     "output_type": "execute_result"
    }
   ],
   "source": [
    "# この決算情報がいつのものか確かめる。\n",
    "key = \"jpdei_cor:CurrentFiscalYearEndDateDEI\"\n",
    "context_ref = \"FilingDateInstant\"\n",
    "report_end_date_info = parsed_xbrl.get_data_by_context_ref(key, context_ref)\n",
    "report_end_date = report_end_date_info.get_value()\n",
    "report_end_date"
   ]
  },
  {
   "cell_type": "code",
   "execution_count": 42,
   "metadata": {},
   "outputs": [],
   "source": [
    "# 「事業の内容」という事業の概要について記述された情報を取得する。\n",
    "key = \"jpcrp_cor:DescriptionOfBusinessTextBlock\"\n",
    "context_ref = \"FilingDateInstant\"\n",
    "summary_of_business_info = parsed_xbrl.get_data_by_context_ref(key, context_ref)\n",
    "summary_of_business = summary_of_business_info.get_value()"
   ]
  },
  {
   "cell_type": "code",
   "execution_count": 43,
   "metadata": {},
   "outputs": [
    {
     "data": {
      "text/html": [
       "\n",
       "<h3>３【事業の内容】</h3>\n",
       "<p style=\"margin-left: 24px; text-align: left; text-indent: 12px\">\n",
       "<span style=\"font-family: &apos;MS Mincho&apos;; font-size: 12px\">当社グループは、「お金を前へ。人生をもっと前へ。」というミッションの下、「すべての人の、『お金のプラットフォーム』になる。」というビジョンを掲げ、法人及び個人のお金の課題を解決するイノベーティブなサービスづくりに取り組んでおります。</span>\n",
       "</p>\n",
       "<p style=\"margin-left: 24px; text-align: left; text-indent: 12px\">\n",
       "<span style=\"font-family: &apos;MS Mincho&apos;; font-size: 12px\">当社グループのミッションの追求並びにビジョンを達成するために、法人向けサービスを提供するMoney Forward Businessドメイン（以下、「Businessドメイン」といいます。）、個人向けサービスを提供するMoney Forward Homeドメイン（以下、「Homeドメイン」といいます。）、金融機関のお客様向けにサービス開発を行うMoney Forward Xドメイン（以下、「Xドメイン」といいます。）、新たな金融ソリューションの開発を行うMoney Forward Financeドメイン（以下、「Financeドメイン」といいます。）の４つのドメインにおいて、事業を運営しております。各ドメインにおける具体的なサービス内容は下記のとおりです。</span>\n",
       "</p>\n",
       "<p style=\"margin-left: 24px; text-align: left; text-indent: 12px\"> </p>\n",
       "<p style=\"margin-left: 24px; text-align: left; text-indent: 12px\">\n",
       "<span style=\"font-family: &apos;MS Mincho&apos;; font-size: 12px\">＜Businessドメイン＞</span>\n",
       "</p>\n",
       "<p style=\"margin-left: 24px; text-align: left; text-indent: 12px\">\n",
       "<span style=\"font-family: &apos;MS Mincho&apos;; font-size: 12px\">●サービスの特徴及び優位性</span>\n",
       "</p>\n",
       "<p style=\"margin-left: 24px; text-align: left; text-indent: 12px\">\n",
       "<span style=\"font-family: &apos;MS Mincho&apos;; font-size: 12px\">当該ドメインの中心サービスである『マネーフォワード クラウド』は、バックオフィス向けの業務効率化ソリューションです。会計・確定申告のサービスから始まり、現在では請求書作成・管理、給与計算、マイナンバー管理、経費精算管理、勤怠管理、社会保険手続管理、会社設立・開業届提出支援等、幅広いクラウドサービスを取り揃え、個人事業主や中小企業だけでなく、中堅企業にも導入が進んでおります。『マネーフォワード クラウド』は、モジュール間でデータをシームレスに連携できることはもちろん、銀行口座やクレジットカードの情報等のサードパーティのデータを自動で収集・記録することもできます。これにより、バックオフィス業務の大幅に効率化できる他、経営状況をリアルタイムで把握し、改善につなげることができます。</span>\n",
       "</p>\n",
       "<p style=\"margin-left: 24px; text-align: left; text-indent: 12px\">\n",
       "<span style=\"font-family: &apos;MS Mincho&apos;; font-size: 12px\">生産年齢人口の減少により、今後ますます労働力確保が難しくなってくることが見込まれる中、日本の経済活動を支える中小・中堅企業の生産性の改善、収益性の向上は急務の課題となっております。このような状況の打開に向けて、電子帳簿保存法の改正や年末調整手続きの電子化等、様々な規制緩和が行われております。また、リモートワーク等の新しい働き方が広がり、クラウドサービスのニーズは更に高まっております。ユーザー獲得を加速するため、今後は中堅向けのサービスラインナップをより強化する予定です。</span>\n",
       "</p>\n",
       "<p style=\"margin-left: 24px; text-align: left; text-indent: 12px\"> </p>\n",
       "<p style=\"margin-left: 24px; text-align: left; text-indent: 12px\">\n",
       "<span style=\"font-family: &apos;MS Mincho&apos;; font-size: 12px\">また、M&amp;Aにより、クラウド記帳サービス『STREAMED』を提供する株式会社クラビス、クラウド型経営管理システム『Manageboard』を提供する株式会社ナレッジラボ、SaaSマーケティングプラットフォーム『BOXIL』やインサイドセールス支援『BALES』等を提供するスマートキャンプ株式会社、入金消込・債権管理クラウドサービス『V-ONEクラウド』等を提供する株式会社アール・アンド・エー・シーがグループにジョインしております。バックオフィスSaaS（注１）領域でのサービス提供に加えて、SaaSマーケティング領域にも事業領域を拡大する等、グループ全体での提供価値が高まっております。</span>\n",
       "</p>\n",
       "<p style=\"margin-left: 24px; text-align: left; text-indent: 12px\"> </p>\n",
       "<p style=\"margin-left: 24px; text-align: left; text-indent: 12px\">\n",
       "<span style=\"font-family: &apos;MS Mincho&apos;; font-size: 12px\">●収益構造</span>\n",
       "</p>\n",
       "<p style=\"margin-left: 24px; text-align: left; text-indent: 12px\">\n",
       "<span style=\"font-family: &apos;MS Mincho&apos;; font-size: 12px\">バックオフィスSaaS領域</span>\n",
       "</p>\n",
       "<p style=\"margin-left: 24px; text-align: left; text-indent: 12px\">\n",
       "<span style=\"font-family: &apos;MS Mincho&apos;; font-size: 12px\">『マネーフォワード クラウド』、『STREAMED』、『Manageboard』、『V-ONEクラウド』等をサービスやプランによって異なる価格帯にて月額又は年額課金の形態にて提供しております。解約率が非常に低いため、新規ユーザーの増加に従って、収益がストック型で逓増するモデルとなっております。主な販売経路は①当社営業人員による会計事務所への販売、②ウェブサイトでの販売、③当社営業人員による中堅企業への販売であります。また、フロー収入として、導入支援手数料、イベントの協賛金・参加金売上、ナレッジラボ社におけるコンサルティング売上等を計上しております。</span>\n",
       "</p>\n",
       "<p style=\"margin-left: 24px; text-align: left; text-indent: 12px\"> </p>\n",
       "<p style=\"margin-left: 24px; text-align: left; text-indent: 12px\">\n",
       "<span style=\"font-family: &apos;MS Mincho&apos;; font-size: 12px\">SaaSマーケティング領域</span>\n",
       "</p>\n",
       "<p style=\"margin-left: 24px; text-align: left; text-indent: 12px\">\n",
       "<span style=\"font-family: &apos;MS Mincho&apos;; font-size: 12px\">『BOXIL』におきましては、広告主に対して、月額基本料及び資料請求数に応じた課金を行っております。『BALES』におきましては、インサイドセールス業務の内容、ボリューム等に応じて課金を行っております。また、「BOXIL EXPO」等の展示会を行い、出展企業より出展料を収受しております。</span>\n",
       "</p>\n",
       "<p style=\"text-align: left; text-indent: 12px\"> </p>\n",
       "<p style=\"margin-left: 24px; text-align: left; text-indent: 12px\">\n",
       "<span style=\"font-family: &apos;MS Mincho&apos;; font-size: 12px; font-weight: normal\">＜Homeドメイン＞</span>\n",
       "</p>\n",
       "<p style=\"margin-left: 24px; text-align: left; text-indent: 12px\">\n",
       "<span style=\"font-family: &apos;MS Mincho&apos;; font-size: 12px\">●サービスの特徴及び優位性</span>\n",
       "</p>\n",
       "<p style=\"margin-left: 24px; text-align: left; text-indent: 12px\">\n",
       "<span style=\"font-family: &apos;MS Mincho&apos;; font-size: 12px\">『マネーフォワード ME』を中核に、各種サービスを通して個人のお金に関する課題を解決することを目的に運営しております。スマートフォンの普及を背景に、ユーザーの家計や資産等お金の情報を可視化するとともに一元管理することで、理想の家計や資産状況に向けた改善案を提示しております。</span>\n",
       "</p>\n",
       "<p style=\"margin-left: 24px; text-align: left; text-indent: 12px\">\n",
       "<span style=\"font-family: &apos;MS Mincho&apos;; font-size: 12px\">『マネーフォワード ME』では、当社グループが独自で保有するアカウントアグリゲーション（注２）技術を活用し、複数の金融機関等にある口座の残高や入出金の履歴等のデータを集約・分類して表示させることができます。それによって、『マネーフォワード ME』のユーザーは、銀行、クレジットカード、証券、保険、年金、ポイント等、お金に関する情報を一元管理することが可能になります。さらには、お金の動きをアラートしてくれる「MY通知」や、家計資産サポート、家計診断機能により、理想の家計や支出バランスを追求することが可能となります。</span>\n",
       "</p>\n",
       "<p style=\"margin-left: 24px; text-align: left; text-indent: 12px\">\n",
       "<span style=\"font-family: &apos;MS Mincho&apos;; font-size: 12px\">また、くらしの経済メディア『MONEY PLUS』、各種セミナー・イベントの、ファイナンシャルプランナーに無料で家計の相談ができる『マネーフォワード お金の相談』を通じて、「お金」にまつわる様々な情報の提供も行っております。さらに、『マネーフォワード ME』のデータを分析して最適な行動をアドバイスする『マネーフォワード おかねせんせい β版』、電気代等の「固定費」の削減をサポートする『マネーフォワード 固定費の見直し』等、ユーザーのお金の課題解決に資するサービスも提供を開始しております。</span>\n",
       "</p>\n",
       "<p style=\"margin-left: 24px; text-align: left; text-indent: 12px\"> </p>\n",
       "<p style=\"margin-left: 24px; text-align: left; text-indent: 12px\">\n",
       "<span style=\"font-family: &apos;MS Mincho&apos;; font-size: 12px\">●収益構造</span>\n",
       "</p>\n",
       "<p style=\"margin-left: 24px; text-align: left; text-indent: 12px\">\n",
       "<span style=\"font-family: &apos;MS Mincho&apos;; font-size: 12px\">プレミアム課金</span>\n",
       "</p>\n",
       "<p style=\"margin-left: 24px; text-align: left; text-indent: 12px\">\n",
       "<span style=\"font-family: &apos;MS Mincho&apos;; font-size: 12px\">『マネーフォワード ME』は、いわゆるフリーミアムモデル型（注３）のサービスです。複数の口座残高の一括管理や、取引履歴を食費や光熱費等のカテゴリに自動で分類・グラフ化を行う等の基本的な機能は無料で提供しておりますが、月額約500円のプレミアムサービスとして、詳細分析機能、金融関連サービス11件以上の連携機能、１年以上前の過去データの蓄積機能、将来シミュレーション機能、家計診断による節約ポイントの把握等の上位機能を提供しております。</span>\n",
       "</p>\n",
       "<p style=\"margin-left: 24px; text-align: left; text-indent: 12px\"> </p>\n",
       "<p style=\"margin-left: 24px; text-align: left; text-indent: 12px\">\n",
       "<span style=\"font-family: &apos;MS Mincho&apos;; font-size: 12px\">メディア／広告収入</span>\n",
       "</p>\n",
       "<p style=\"margin-left: 24px; text-align: left; text-indent: 12px\">\n",
       "<span style=\"font-family: &apos;MS Mincho&apos;; font-size: 12px\">『マネーフォワード ME』及び『MONEY PLUS』における広告掲載料、イベントやセミナーの開催に伴う運営収入を計上しております。</span>\n",
       "</p>\n",
       "<p style=\"margin-left: 24px; text-align: left; text-indent: 12px\"> </p>\n",
       "<p style=\"margin-left: 24px; text-align: left; text-indent: 12px\">\n",
       "<span style=\"font-family: &apos;MS Mincho&apos;; font-size: 12px\">＜Xドメイン＞</span>\n",
       "</p>\n",
       "<p style=\"margin-left: 24px; text-align: left; text-indent: 12px\">\n",
       "<span style=\"font-family: &apos;MS Mincho&apos;; font-size: 12px\">●サービスの特徴及び優位性</span>\n",
       "</p>\n",
       "<p style=\"margin-left: 24px; text-align: left; text-indent: 12px\">\n",
       "<span style=\"font-family: &apos;MS Mincho&apos;; font-size: 12px\">『マネーフォワード クラウド』、『マネーフォワード ME』の開発やデザインノウハウを活かし、アプリやwebサービスの企画・開発を行っております。主な提供サービスとして、金融機関の個人顧客向けの自動家計簿・資産管理サービス『マネーフォワードfor○○』、通帳アプリ『デジタル通帳』、法人顧客向けの資金管理サービス『Business Financial Management』等が挙げられます。さらに、通信業界等の金融機関以外の企業とサービスの共同開発にも取り組んでおります。</span>\n",
       "</p>\n",
       "<p style=\"margin-left: 24px; text-align: left; text-indent: 12px\"> </p>\n",
       "<p style=\"margin-left: 24px; text-align: left; text-indent: 12px\">\n",
       "<span style=\"font-family: &apos;MS Mincho&apos;; font-size: 12px\">●収益構造</span>\n",
       "</p>\n",
       "<p style=\"margin-left: 24px; text-align: left; text-indent: 12px\">\n",
       "<span style=\"font-family: &apos;MS Mincho&apos;; font-size: 12px\">『マネーフォワードfor○○』や『デジタル通帳』等の保守・運用にかかる月額課金ストック収益として収受する他、開発、プロモーション支援等により発生する一時的なフロー収益を収受しております。</span>\n",
       "</p>\n",
       "<p style=\"margin-left: 24px; text-align: left; text-indent: 12px\"> </p>\n",
       "<p style=\"margin-left: 24px; text-align: left; text-indent: 12px\">\n",
       "<span style=\"font-family: &apos;MS Mincho&apos;; font-size: 12px\">＜Financeドメイン＞</span>\n",
       "</p>\n",
       "<p style=\"margin-left: 24px; text-align: left; text-indent: 12px\">\n",
       "<span style=\"font-family: &apos;MS Mincho&apos;; font-size: 12px\">●サービスの特徴及び優位性</span>\n",
       "</p>\n",
       "<p style=\"margin-left: 24px; text-align: left; text-indent: 12px\">\n",
       "<span style=\"font-family: &apos;MS Mincho&apos;; font-size: 12px\">主なサービスとして、企業の資金繰りをサポートする、企業間後払い決済サービス『マネーフォワード ケッサイ』及び売掛金早期資金化サービス『マネーフォワード アーリーペイメント』を提供しております。独自の与信モデルにより、スピーディーに審査ができ、企業における資金繰り早期化ニーズ、請求業務のアウトソースニーズに迅速に対応しております。また、マネーフォワードシンカ株式会社において、既存のサービスや金融機関とのネットワークを組み合わせた成長企業向けのフィナンシャル・アドバイザリーサービスを提供しております。さらに、当連結会計年度においては、マネーフォワードベンチャーパートナーズ株式会社において、シード・アーリーステージのスタートアップを支援するアントレプレナーファンド「HIRAC FUND」を開始しております。</span>\n",
       "</p>\n",
       "<p style=\"margin-left: 24px; text-align: left; text-indent: 12px\"> </p>\n",
       "<p style=\"margin-left: 24px; text-align: left; text-indent: 12px\">\n",
       "<span style=\"font-family: &apos;MS Mincho&apos;; font-size: 12px\">●収益構造</span>\n",
       "</p>\n",
       "<p style=\"margin-left: 24px; text-align: left; text-indent: 12px\">\n",
       "<span style=\"font-family: &apos;MS Mincho&apos;; font-size: 12px\">『マネーフォワード ケッサイ』『マネーフォワード アーリーペイメント』の手数料収入、マネーフォワードシンカにおけるアドバイザリーフィーを計上しております。</span>\n",
       "</p>\n",
       "<p style=\"text-align: left; text-indent: 12px\"> </p>\n",
       "<p style=\"margin-left: 24px; text-align: left; text-indent: 12px\">\n",
       "<span style=\"font-family: &apos;MS Mincho&apos;; font-size: 12px; font-weight: normal\">（注１）SaaS</span>\n",
       "</p>\n",
       "<p style=\"margin-left: 72px; text-align: left; text-indent: 12px\">\n",
       "<span style=\"font-family: &apos;MS Mincho&apos;; font-size: 12px\">「Software as a Service」の略称であり、サービス提供者がソフトウエア・アプリケーションの機能をクラウド上で提供し、ネットワーク経由で利用する形態を指します。一般的に初期導入コストを低く抑えた月額課金のビジネスモデルとなります。</span>\n",
       "</p>\n",
       "<p style=\"margin-left: 24px; text-align: left; text-indent: 12px\">\n",
       "<span style=\"font-family: &apos;MS Mincho&apos;; font-size: 12px\">（注２）アカウントアグリゲーション</span>\n",
       "</p>\n",
       "<p style=\"margin-left: 72px; text-align: left; text-indent: 12px\">\n",
       "<span style=\"font-family: &apos;MS Mincho&apos;; font-size: 12px\">ユーザーが保有する、銀行、証券、クレジットカード等複数の金融機関の口座の残高や入出金履歴といった情報を取得・集約する技術をいいます。</span>\n",
       "</p>\n",
       "<p style=\"margin-left: 24px; text-align: left; text-indent: 12px\">\n",
       "<span style=\"font-family: &apos;MS Mincho&apos;; font-size: 12px\">（注３）フリーミアムモデル型</span>\n",
       "</p>\n",
       "<p style=\"margin-left: 72px; text-align: left; text-indent: 12px\">\n",
       "<span style=\"font-family: &apos;MS Mincho&apos;; font-size: 12px\">基本的なサービスはすべて無料で提供し、一部の機能を有料で提供するビジネスモデルをいいます。</span>\n",
       "</p>\n",
       "<p style=\"margin-left: 24px; text-align: left\"> </p>\n",
       "<p style=\"margin-left: 24px; text-align: left\">\n",
       "<span style=\"font-weight: normal\">［事業系統図］</span>\n",
       "</p>\n",
       "<p style=\"margin-left: 24px; text-align: left\">\n",
       "<span style=\"font-weight: normal\">以上述べた事項を事業系統図によって示すと次のとおりであります。</span>\n",
       "</p>\n",
       "<p style=\"margin-left: 36px; text-align: left\">\n",
       "<img style=\"height: 462.440002441406px; width: 600.998779296875px\" src=\"images/0101010_001.png\" alt=\"0101010_001.png\"/>\n",
       "</p>\n",
       "<p style=\"text-align: left\"> </p>\n"
      ],
      "text/plain": [
       "<IPython.core.display.HTML object>"
      ]
     },
     "execution_count": 43,
     "metadata": {},
     "output_type": "execute_result"
    }
   ],
   "source": [
    "# 結果の出力\n",
    "from IPython.display import HTML\n",
    "HTML(summary_of_business)"
   ]
  },
  {
   "cell_type": "code",
   "execution_count": null,
   "metadata": {},
   "outputs": [],
   "source": []
  }
 ],
 "metadata": {
  "kernelspec": {
   "display_name": "Python 3",
   "language": "python",
   "name": "python3"
  },
  "language_info": {
   "codemirror_mode": {
    "name": "ipython",
    "version": 3
   },
   "file_extension": ".py",
   "mimetype": "text/x-python",
   "name": "python",
   "nbconvert_exporter": "python",
   "pygments_lexer": "ipython3",
   "version": "3.11.3"
  },
  "orig_nbformat": 4
 },
 "nbformat": 4,
 "nbformat_minor": 2
}
