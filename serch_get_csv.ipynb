{
 "cells": [
  {
   "cell_type": "markdown",
   "metadata": {},
   "source": [
    "ブラウザを立ち上げて、自動で検索して、検索結果一覧画面を表示する"
   ]
  },
  {
   "cell_type": "code",
   "execution_count": 20,
   "metadata": {},
   "outputs": [],
   "source": [
    "from selenium import webdriver\n",
    "\n",
    "# 現在の日付と時刻を取得\n",
    "current_datetime = datetime.now()\n",
    "\n",
    "# 文字列としてフォーマット\n",
    "formatted_datetime = current_datetime.strftime('%Y-%m-%d %H:%M:%S')\n",
    "\n",
    "# WebDriverのインスタンスを作成\n",
    "driver = webdriver.Chrome()\n",
    "\n",
    "# # 新しいタブを開く\n",
    "# driver.execute_script(\"window.open('', '_blank');\")\n",
    "\n",
    "# # 新しいタブに切り替える\n",
    "# driver.switch_to.window(driver.window_handles[1])\n",
    "\n",
    "# ウェブサイトにアクセス\n",
    "driver.get('https://disclosure2.edinet-fsa.go.jp/week0010.aspx') \n",
    "\n",
    "# 検索ボックスに検索語句を入力\n",
    "search_box = driver.find_element(\"css selector\", 'input[name=\"W0018vD_KEYWORD\"]') \n",
    "search_box.send_keys('東芝') \n",
    "\n",
    "# 検索ボタンをクリック\n",
    "search_button = driver.find_element(\"css selector\", 'input[name=\"W0018BTNBTN_SEARCH\"]') \n",
    "search_button.click()\n",
    "\n",
    "# しばらく待つ（結果を待つため）\n",
    "driver.implicitly_wait(10)\n",
    "\n",
    "# # ブラウザを閉じる\n",
    "# driver.quit()\n"
   ]
  },
  {
   "cell_type": "markdown",
   "metadata": {},
   "source": [
    "ある時刻より新しいcsvを取得する"
   ]
  },
  {
   "cell_type": "code",
   "execution_count": null,
   "metadata": {},
   "outputs": [],
   "source": [
    "import os\n",
    "from datetime import datetime\n",
    "\n",
    "# 指定したディレクトリ内のファイルを取得\n",
    "directory = 'path/to/your/csv/files'  # CSVファイルが格納されているディレクトリのパスを指定\n",
    "\n",
    "# 時刻Aを指定 (形式: 'YYYY-MM-DD HH:MM:SS')\n",
    "time_a_str = formatted_datetime\n",
    "\n",
    "# 文字列をdatetimeオブジェクトに変換\n",
    "time_a = datetime.strptime(time_a_str, '%Y-%m-%d %H:%M:%S')\n",
    "\n",
    "# 新しいファイルのパスを格納するリストを初期化\n",
    "new_files = []\n",
    "\n",
    "for f in os.listdir(directory):\n",
    "    full_path = os.path.join(directory, f)\n",
    "    \n",
    "    # ファイルの最終変更時刻を取得\n",
    "    file_mod_time = datetime.fromtimestamp(os.path.getmtime(full_path))\n",
    "\n",
    "    # ファイルの最終変更時刻が時刻Aより新しいかどうかを確認し、CSVファイルかどうかも確認\n",
    "    if file_mod_time > time_a and f.endswith('.csv'):\n",
    "        # ファイルのパスをリストに追加\n",
    "        new_files.append(full_path)\n",
    "        # 最初の条件を満たすファイルを見つけたらループを抜ける\n",
    "        break\n",
    "\n",
    "# 新しいファイルのパスのリストを表示\n",
    "for new_file in new_files:\n",
    "    print(new_file)\n"
   ]
  },
  {
   "cell_type": "markdown",
   "metadata": {},
   "source": []
  }
 ],
 "metadata": {
  "kernelspec": {
   "display_name": "Python 3",
   "language": "python",
   "name": "python3"
  },
  "language_info": {
   "codemirror_mode": {
    "name": "ipython",
    "version": 3
   },
   "file_extension": ".py",
   "mimetype": "text/x-python",
   "name": "python",
   "nbconvert_exporter": "python",
   "pygments_lexer": "ipython3",
   "version": "3.11.3"
  },
  "orig_nbformat": 4
 },
 "nbformat": 4,
 "nbformat_minor": 2
}
